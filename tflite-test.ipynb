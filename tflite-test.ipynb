{
  "nbformat": 4,
  "nbformat_minor": 0,
  "metadata": {
    "colab": {
      "name": "Test_Awan_Tflite.ipynb",
      "provenance": [],
      "collapsed_sections": [],
      "include_colab_link": true
    },
    "kernelspec": {
      "name": "python3",
      "display_name": "Python 3"
    },
    "language_info": {
      "name": "python"
    },
    "accelerator": "GPU"
  },
  "cells": [
    {
      "cell_type": "markdown",
      "metadata": {
        "id": "view-in-github",
        "colab_type": "text"
      },
      "source": [
        "<a href=\"https://colab.research.google.com/github/jidan-fikri/AWAN-App/blob/master/tflite-test.ipynb\" target=\"_parent\"><img src=\"https://colab.research.google.com/assets/colab-badge.svg\" alt=\"Open In Colab\"/></a>"
      ]
    },
    {
      "cell_type": "code",
      "execution_count": null,
      "metadata": {
        "id": "foLBxzfRe7RG"
      },
      "outputs": [],
      "source": [
        "import numpy as np\n",
        "import pandas as pd\n",
        "import os\n",
        "import keras\n",
        "import tensorflow as tf\n",
        "import zipfile\n",
        "from keras.layers import Conv2D, MaxPool2D, Flatten, Dense, Dropout, BatchNormalization\n",
        "from keras.preprocessing.image import ImageDataGenerator\n",
        "from keras.models import Sequential\n",
        "from keras import regularizers\n",
        "from sklearn.model_selection import train_test_split\n",
        "from tensorflow.keras.utils import to_categorical\n",
        "from tensorflow.keras.preprocessing.image import ImageDataGenerator\n",
        "from tensorflow.keras.models import load_model\n",
        "from tensorflow.keras.callbacks import EarlyStopping, ModelCheckpoint\n",
        "from tensorflow.keras import models, layers\n",
        "import matplotlib.pyplot as plt\n",
        "import sklearn\n",
        "import itertools\n",
        "from sklearn.metrics import classification_report, confusion_matrix\n",
        "import cv2\n",
        "from PIL import Image"
      ]
    },
    {
      "cell_type": "code",
      "source": [
        "!git clone https://github.com/jidan-fikri/AWAN-App.git"
      ],
      "metadata": {
        "colab": {
          "base_uri": "https://localhost:8080/"
        },
        "id": "w7fyxTExfGen",
        "outputId": "f0ad4c9e-0b72-40a1-ad3d-d237f1dceb79"
      },
      "execution_count": null,
      "outputs": [
        {
          "output_type": "stream",
          "name": "stdout",
          "text": [
            "fatal: destination path 'AWAN-App' already exists and is not an empty directory.\n"
          ]
        }
      ]
    },
    {
      "cell_type": "code",
      "source": [
        "interpreter = tf.lite.Interpreter(model_path='/content/AWAN-App/model/cloudv3.tflite')\n",
        "interpreter.allocate_tensors()\n",
        "\n",
        "input_details = interpreter.get_input_details()\n",
        "output_details = interpreter.get_output_details()\n",
        "\n",
        "print(\"== Input details ==\")\n",
        "print(\"name:\", input_details[0]['name'])\n",
        "print(\"shape:\", input_details[0]['shape'])\n",
        "print(\"type:\", input_details[0]['dtype'])\n",
        "\n",
        "print(\"\\n== Output details ==\")\n",
        "print(\"name:\", output_details[0]['name'])\n",
        "print(\"shape:\", output_details[0]['shape'])\n",
        "print(\"type:\", output_details[0]['dtype'])"
      ],
      "metadata": {
        "colab": {
          "base_uri": "https://localhost:8080/"
        },
        "id": "Yb1qTFCvfkTR",
        "outputId": "e97aef2c-361e-4226-f051-8a073b4d183f"
      },
      "execution_count": null,
      "outputs": [
        {
          "output_type": "stream",
          "name": "stdout",
          "text": [
            "== Input details ==\n",
            "name: serving_default_inception_v3_input:0\n",
            "shape: [  1 224 224   3]\n",
            "type: <class 'numpy.float32'>\n",
            "\n",
            "== Output details ==\n",
            "name: StatefulPartitionedCall:0\n",
            "shape: [1 3]\n",
            "type: <class 'numpy.float32'>\n"
          ]
        }
      ]
    },
    {
      "cell_type": "code",
      "source": [
        "_, input_height, input_width, _ = interpreter.get_input_details()[0]['shape']"
      ],
      "metadata": {
        "id": "vG-we9fagsKm"
      },
      "execution_count": null,
      "outputs": []
    },
    {
      "cell_type": "code",
      "source": [
        "def preprocess_image(image_path, input_size):\n",
        "  \"\"\"Preprocess the input image to feed to the TFLite model\"\"\"\n",
        "  img = tf.io.read_file(image_path)\n",
        "  img = tf.io.decode_image(img, channels=3)\n",
        "  img = tf.image.convert_image_dtype(img, tf.uint8)\n",
        "  original_image = img\n",
        "  resized_img = tf.image.resize(img, input_size)\n",
        "  resized_img = resized_img[tf.newaxis, :]\n",
        "  return resized_img, original_image"
      ],
      "metadata": {
        "id": "1PEw9xNxfSkF"
      },
      "execution_count": null,
      "outputs": []
    },
    {
      "cell_type": "code",
      "source": [
        "import os\n",
        "\n",
        "real_label = []\n",
        "predicted_label = []\n",
        "test_path = []\n",
        "\n",
        "for folder_name in os.listdir('/content/AWAN-App/dataset/test/'):\n",
        "  if folder_name == 'Heavy_Rain':\n",
        "    label = 0\n",
        "  elif folder_name == 'Low_Chance_of_Rain':\n",
        "    label = 1\n",
        "  elif folder_name == 'Medium_Rain':\n",
        "    label = 2\n",
        "  folder = os.path.join('/content/AWAN-App/dataset/test/', folder_name)\n",
        "  \n",
        "  for filename in os.listdir(folder):\n",
        "    f = os.path.join(folder, filename)\n",
        "    test_path.append(f)\n",
        "    real_label.append(label)"
      ],
      "metadata": {
        "id": "oRIVs-Ncg8ZA"
      },
      "execution_count": null,
      "outputs": []
    },
    {
      "cell_type": "code",
      "source": [
        "print(len(real_label))\n",
        "print(len(test_path))"
      ],
      "metadata": {
        "colab": {
          "base_uri": "https://localhost:8080/"
        },
        "id": "w5UgFoxRjsTD",
        "outputId": "2bb8cabb-5034-44d5-b29f-61d250dd515b"
      },
      "execution_count": null,
      "outputs": [
        {
          "output_type": "stream",
          "name": "stdout",
          "text": [
            "236\n",
            "236\n"
          ]
        }
      ]
    },
    {
      "cell_type": "code",
      "source": [
        "def set_input_tensor(interpreter, image):\n",
        "  \"\"\"Set the input tensor.\"\"\"\n",
        "  tensor_index = interpreter.get_input_details()[0]['index']\n",
        "  input_tensor = interpreter.tensor(tensor_index)()[0]\n",
        "  input_tensor[:, :] = image"
      ],
      "metadata": {
        "id": "RLu4La5LfXq_"
      },
      "execution_count": null,
      "outputs": []
    },
    {
      "cell_type": "code",
      "source": [
        "def get_output_tensor(interpreter, index):\n",
        "  \"\"\"Retur the output tensor at the given index.\"\"\"\n",
        "  output_details = interpreter.get_output_details()[index]\n",
        "  tensor = np.squeeze(interpreter.get_tensor(output_details['index']))\n",
        "  return tensor"
      ],
      "metadata": {
        "id": "D5KQhM5nfiEq"
      },
      "execution_count": null,
      "outputs": []
    },
    {
      "cell_type": "code",
      "source": [
        "CATEGORIES = ['Heavy_Rain', 'Low_Chance_Rain', 'Medium_Rain']\n",
        "\n",
        "for idx, (path, rl_label) in enumerate(zip(test_path, real_label)):\n",
        "  preprocessed_image, original_image = preprocess_image(path, (input_height, input_width))\n",
        "\n",
        "  set_input_tensor(interpreter, preprocessed_image)\n",
        "  interpreter.invoke()\n",
        "\n",
        "  tensor = get_output_tensor(interpreter, 0)\n",
        "  predicted_label.append(np.argmax(tensor, axis=0))\n",
        "\n",
        "  real = CATEGORIES[rl_label]\n",
        "  pred = CATEGORIES[np.argmax(tensor, axis=0)]\n",
        "  print(f'Index {idx} -- Predicted {pred} \\t\\t Real Label {real}')"
      ],
      "metadata": {
        "colab": {
          "base_uri": "https://localhost:8080/"
        },
        "id": "hAyHAkZ_jw5C",
        "outputId": "5f18c73b-3feb-4b1e-eb97-fdb29960fac2"
      },
      "execution_count": null,
      "outputs": [
        {
          "output_type": "stream",
          "name": "stdout",
          "text": [
            "Index 0 -- Predicted Heavy_Rain \t\t Real Label Low_Chance_Rain\n",
            "Index 1 -- Predicted Low_Chance_Rain \t\t Real Label Low_Chance_Rain\n",
            "Index 2 -- Predicted Low_Chance_Rain \t\t Real Label Low_Chance_Rain\n",
            "Index 3 -- Predicted Medium_Rain \t\t Real Label Low_Chance_Rain\n",
            "Index 4 -- Predicted Low_Chance_Rain \t\t Real Label Low_Chance_Rain\n",
            "Index 5 -- Predicted Medium_Rain \t\t Real Label Low_Chance_Rain\n",
            "Index 6 -- Predicted Low_Chance_Rain \t\t Real Label Low_Chance_Rain\n",
            "Index 7 -- Predicted Low_Chance_Rain \t\t Real Label Low_Chance_Rain\n",
            "Index 8 -- Predicted Low_Chance_Rain \t\t Real Label Low_Chance_Rain\n",
            "Index 9 -- Predicted Low_Chance_Rain \t\t Real Label Low_Chance_Rain\n",
            "Index 10 -- Predicted Low_Chance_Rain \t\t Real Label Low_Chance_Rain\n",
            "Index 11 -- Predicted Low_Chance_Rain \t\t Real Label Low_Chance_Rain\n",
            "Index 12 -- Predicted Low_Chance_Rain \t\t Real Label Low_Chance_Rain\n",
            "Index 13 -- Predicted Low_Chance_Rain \t\t Real Label Low_Chance_Rain\n",
            "Index 14 -- Predicted Low_Chance_Rain \t\t Real Label Low_Chance_Rain\n",
            "Index 15 -- Predicted Medium_Rain \t\t Real Label Low_Chance_Rain\n",
            "Index 16 -- Predicted Low_Chance_Rain \t\t Real Label Low_Chance_Rain\n",
            "Index 17 -- Predicted Low_Chance_Rain \t\t Real Label Low_Chance_Rain\n",
            "Index 18 -- Predicted Low_Chance_Rain \t\t Real Label Low_Chance_Rain\n",
            "Index 19 -- Predicted Low_Chance_Rain \t\t Real Label Low_Chance_Rain\n",
            "Index 20 -- Predicted Low_Chance_Rain \t\t Real Label Low_Chance_Rain\n",
            "Index 21 -- Predicted Low_Chance_Rain \t\t Real Label Low_Chance_Rain\n",
            "Index 22 -- Predicted Low_Chance_Rain \t\t Real Label Low_Chance_Rain\n",
            "Index 23 -- Predicted Low_Chance_Rain \t\t Real Label Low_Chance_Rain\n",
            "Index 24 -- Predicted Low_Chance_Rain \t\t Real Label Low_Chance_Rain\n",
            "Index 25 -- Predicted Low_Chance_Rain \t\t Real Label Low_Chance_Rain\n",
            "Index 26 -- Predicted Low_Chance_Rain \t\t Real Label Low_Chance_Rain\n",
            "Index 27 -- Predicted Low_Chance_Rain \t\t Real Label Low_Chance_Rain\n",
            "Index 28 -- Predicted Medium_Rain \t\t Real Label Low_Chance_Rain\n",
            "Index 29 -- Predicted Low_Chance_Rain \t\t Real Label Low_Chance_Rain\n",
            "Index 30 -- Predicted Low_Chance_Rain \t\t Real Label Low_Chance_Rain\n",
            "Index 31 -- Predicted Low_Chance_Rain \t\t Real Label Low_Chance_Rain\n",
            "Index 32 -- Predicted Low_Chance_Rain \t\t Real Label Low_Chance_Rain\n",
            "Index 33 -- Predicted Low_Chance_Rain \t\t Real Label Low_Chance_Rain\n",
            "Index 34 -- Predicted Low_Chance_Rain \t\t Real Label Low_Chance_Rain\n",
            "Index 35 -- Predicted Low_Chance_Rain \t\t Real Label Low_Chance_Rain\n",
            "Index 36 -- Predicted Low_Chance_Rain \t\t Real Label Low_Chance_Rain\n",
            "Index 37 -- Predicted Heavy_Rain \t\t Real Label Low_Chance_Rain\n",
            "Index 38 -- Predicted Low_Chance_Rain \t\t Real Label Low_Chance_Rain\n",
            "Index 39 -- Predicted Low_Chance_Rain \t\t Real Label Low_Chance_Rain\n",
            "Index 40 -- Predicted Low_Chance_Rain \t\t Real Label Low_Chance_Rain\n",
            "Index 41 -- Predicted Low_Chance_Rain \t\t Real Label Low_Chance_Rain\n",
            "Index 42 -- Predicted Low_Chance_Rain \t\t Real Label Low_Chance_Rain\n",
            "Index 43 -- Predicted Low_Chance_Rain \t\t Real Label Low_Chance_Rain\n",
            "Index 44 -- Predicted Low_Chance_Rain \t\t Real Label Low_Chance_Rain\n",
            "Index 45 -- Predicted Low_Chance_Rain \t\t Real Label Low_Chance_Rain\n",
            "Index 46 -- Predicted Heavy_Rain \t\t Real Label Low_Chance_Rain\n",
            "Index 47 -- Predicted Low_Chance_Rain \t\t Real Label Low_Chance_Rain\n",
            "Index 48 -- Predicted Low_Chance_Rain \t\t Real Label Low_Chance_Rain\n",
            "Index 49 -- Predicted Low_Chance_Rain \t\t Real Label Low_Chance_Rain\n",
            "Index 50 -- Predicted Low_Chance_Rain \t\t Real Label Low_Chance_Rain\n",
            "Index 51 -- Predicted Low_Chance_Rain \t\t Real Label Low_Chance_Rain\n",
            "Index 52 -- Predicted Low_Chance_Rain \t\t Real Label Low_Chance_Rain\n",
            "Index 53 -- Predicted Low_Chance_Rain \t\t Real Label Low_Chance_Rain\n",
            "Index 54 -- Predicted Low_Chance_Rain \t\t Real Label Low_Chance_Rain\n",
            "Index 55 -- Predicted Low_Chance_Rain \t\t Real Label Low_Chance_Rain\n",
            "Index 56 -- Predicted Low_Chance_Rain \t\t Real Label Low_Chance_Rain\n",
            "Index 57 -- Predicted Low_Chance_Rain \t\t Real Label Low_Chance_Rain\n",
            "Index 58 -- Predicted Low_Chance_Rain \t\t Real Label Low_Chance_Rain\n",
            "Index 59 -- Predicted Low_Chance_Rain \t\t Real Label Low_Chance_Rain\n",
            "Index 60 -- Predicted Low_Chance_Rain \t\t Real Label Low_Chance_Rain\n",
            "Index 61 -- Predicted Low_Chance_Rain \t\t Real Label Low_Chance_Rain\n",
            "Index 62 -- Predicted Low_Chance_Rain \t\t Real Label Low_Chance_Rain\n",
            "Index 63 -- Predicted Low_Chance_Rain \t\t Real Label Low_Chance_Rain\n",
            "Index 64 -- Predicted Low_Chance_Rain \t\t Real Label Low_Chance_Rain\n",
            "Index 65 -- Predicted Low_Chance_Rain \t\t Real Label Low_Chance_Rain\n",
            "Index 66 -- Predicted Low_Chance_Rain \t\t Real Label Low_Chance_Rain\n",
            "Index 67 -- Predicted Heavy_Rain \t\t Real Label Low_Chance_Rain\n",
            "Index 68 -- Predicted Low_Chance_Rain \t\t Real Label Low_Chance_Rain\n",
            "Index 69 -- Predicted Medium_Rain \t\t Real Label Low_Chance_Rain\n",
            "Index 70 -- Predicted Low_Chance_Rain \t\t Real Label Low_Chance_Rain\n",
            "Index 71 -- Predicted Low_Chance_Rain \t\t Real Label Low_Chance_Rain\n",
            "Index 72 -- Predicted Low_Chance_Rain \t\t Real Label Low_Chance_Rain\n",
            "Index 73 -- Predicted Low_Chance_Rain \t\t Real Label Low_Chance_Rain\n",
            "Index 74 -- Predicted Low_Chance_Rain \t\t Real Label Low_Chance_Rain\n",
            "Index 75 -- Predicted Low_Chance_Rain \t\t Real Label Low_Chance_Rain\n",
            "Index 76 -- Predicted Low_Chance_Rain \t\t Real Label Low_Chance_Rain\n",
            "Index 77 -- Predicted Low_Chance_Rain \t\t Real Label Low_Chance_Rain\n",
            "Index 78 -- Predicted Low_Chance_Rain \t\t Real Label Low_Chance_Rain\n",
            "Index 79 -- Predicted Medium_Rain \t\t Real Label Low_Chance_Rain\n",
            "Index 80 -- Predicted Low_Chance_Rain \t\t Real Label Low_Chance_Rain\n",
            "Index 81 -- Predicted Low_Chance_Rain \t\t Real Label Low_Chance_Rain\n",
            "Index 82 -- Predicted Low_Chance_Rain \t\t Real Label Low_Chance_Rain\n",
            "Index 83 -- Predicted Low_Chance_Rain \t\t Real Label Low_Chance_Rain\n",
            "Index 84 -- Predicted Low_Chance_Rain \t\t Real Label Low_Chance_Rain\n",
            "Index 85 -- Predicted Low_Chance_Rain \t\t Real Label Low_Chance_Rain\n",
            "Index 86 -- Predicted Low_Chance_Rain \t\t Real Label Low_Chance_Rain\n",
            "Index 87 -- Predicted Low_Chance_Rain \t\t Real Label Low_Chance_Rain\n",
            "Index 88 -- Predicted Low_Chance_Rain \t\t Real Label Low_Chance_Rain\n",
            "Index 89 -- Predicted Low_Chance_Rain \t\t Real Label Low_Chance_Rain\n",
            "Index 90 -- Predicted Medium_Rain \t\t Real Label Low_Chance_Rain\n",
            "Index 91 -- Predicted Low_Chance_Rain \t\t Real Label Low_Chance_Rain\n",
            "Index 92 -- Predicted Medium_Rain \t\t Real Label Medium_Rain\n",
            "Index 93 -- Predicted Medium_Rain \t\t Real Label Medium_Rain\n",
            "Index 94 -- Predicted Medium_Rain \t\t Real Label Medium_Rain\n",
            "Index 95 -- Predicted Heavy_Rain \t\t Real Label Medium_Rain\n",
            "Index 96 -- Predicted Medium_Rain \t\t Real Label Medium_Rain\n",
            "Index 97 -- Predicted Medium_Rain \t\t Real Label Medium_Rain\n",
            "Index 98 -- Predicted Medium_Rain \t\t Real Label Medium_Rain\n",
            "Index 99 -- Predicted Medium_Rain \t\t Real Label Medium_Rain\n",
            "Index 100 -- Predicted Medium_Rain \t\t Real Label Medium_Rain\n",
            "Index 101 -- Predicted Medium_Rain \t\t Real Label Medium_Rain\n",
            "Index 102 -- Predicted Medium_Rain \t\t Real Label Medium_Rain\n",
            "Index 103 -- Predicted Medium_Rain \t\t Real Label Medium_Rain\n",
            "Index 104 -- Predicted Medium_Rain \t\t Real Label Medium_Rain\n",
            "Index 105 -- Predicted Medium_Rain \t\t Real Label Medium_Rain\n",
            "Index 106 -- Predicted Medium_Rain \t\t Real Label Medium_Rain\n",
            "Index 107 -- Predicted Medium_Rain \t\t Real Label Medium_Rain\n",
            "Index 108 -- Predicted Medium_Rain \t\t Real Label Medium_Rain\n",
            "Index 109 -- Predicted Heavy_Rain \t\t Real Label Medium_Rain\n",
            "Index 110 -- Predicted Medium_Rain \t\t Real Label Medium_Rain\n",
            "Index 111 -- Predicted Medium_Rain \t\t Real Label Medium_Rain\n",
            "Index 112 -- Predicted Medium_Rain \t\t Real Label Medium_Rain\n",
            "Index 113 -- Predicted Low_Chance_Rain \t\t Real Label Medium_Rain\n",
            "Index 114 -- Predicted Medium_Rain \t\t Real Label Medium_Rain\n",
            "Index 115 -- Predicted Medium_Rain \t\t Real Label Medium_Rain\n",
            "Index 116 -- Predicted Medium_Rain \t\t Real Label Medium_Rain\n",
            "Index 117 -- Predicted Medium_Rain \t\t Real Label Medium_Rain\n",
            "Index 118 -- Predicted Medium_Rain \t\t Real Label Medium_Rain\n",
            "Index 119 -- Predicted Medium_Rain \t\t Real Label Medium_Rain\n",
            "Index 120 -- Predicted Medium_Rain \t\t Real Label Medium_Rain\n",
            "Index 121 -- Predicted Heavy_Rain \t\t Real Label Medium_Rain\n",
            "Index 122 -- Predicted Medium_Rain \t\t Real Label Medium_Rain\n",
            "Index 123 -- Predicted Medium_Rain \t\t Real Label Medium_Rain\n",
            "Index 124 -- Predicted Medium_Rain \t\t Real Label Medium_Rain\n",
            "Index 125 -- Predicted Medium_Rain \t\t Real Label Medium_Rain\n",
            "Index 126 -- Predicted Medium_Rain \t\t Real Label Medium_Rain\n",
            "Index 127 -- Predicted Medium_Rain \t\t Real Label Medium_Rain\n",
            "Index 128 -- Predicted Medium_Rain \t\t Real Label Medium_Rain\n",
            "Index 129 -- Predicted Medium_Rain \t\t Real Label Medium_Rain\n",
            "Index 130 -- Predicted Medium_Rain \t\t Real Label Medium_Rain\n",
            "Index 131 -- Predicted Medium_Rain \t\t Real Label Medium_Rain\n",
            "Index 132 -- Predicted Low_Chance_Rain \t\t Real Label Medium_Rain\n",
            "Index 133 -- Predicted Medium_Rain \t\t Real Label Medium_Rain\n",
            "Index 134 -- Predicted Medium_Rain \t\t Real Label Medium_Rain\n",
            "Index 135 -- Predicted Medium_Rain \t\t Real Label Medium_Rain\n",
            "Index 136 -- Predicted Medium_Rain \t\t Real Label Medium_Rain\n",
            "Index 137 -- Predicted Medium_Rain \t\t Real Label Medium_Rain\n",
            "Index 138 -- Predicted Medium_Rain \t\t Real Label Medium_Rain\n",
            "Index 139 -- Predicted Medium_Rain \t\t Real Label Medium_Rain\n",
            "Index 140 -- Predicted Medium_Rain \t\t Real Label Medium_Rain\n",
            "Index 141 -- Predicted Low_Chance_Rain \t\t Real Label Medium_Rain\n",
            "Index 142 -- Predicted Medium_Rain \t\t Real Label Medium_Rain\n",
            "Index 143 -- Predicted Medium_Rain \t\t Real Label Medium_Rain\n",
            "Index 144 -- Predicted Medium_Rain \t\t Real Label Medium_Rain\n",
            "Index 145 -- Predicted Medium_Rain \t\t Real Label Medium_Rain\n",
            "Index 146 -- Predicted Medium_Rain \t\t Real Label Medium_Rain\n",
            "Index 147 -- Predicted Medium_Rain \t\t Real Label Medium_Rain\n",
            "Index 148 -- Predicted Medium_Rain \t\t Real Label Medium_Rain\n",
            "Index 149 -- Predicted Medium_Rain \t\t Real Label Medium_Rain\n",
            "Index 150 -- Predicted Medium_Rain \t\t Real Label Medium_Rain\n",
            "Index 151 -- Predicted Medium_Rain \t\t Real Label Medium_Rain\n",
            "Index 152 -- Predicted Medium_Rain \t\t Real Label Medium_Rain\n",
            "Index 153 -- Predicted Medium_Rain \t\t Real Label Medium_Rain\n",
            "Index 154 -- Predicted Medium_Rain \t\t Real Label Medium_Rain\n",
            "Index 155 -- Predicted Medium_Rain \t\t Real Label Medium_Rain\n",
            "Index 156 -- Predicted Medium_Rain \t\t Real Label Medium_Rain\n",
            "Index 157 -- Predicted Medium_Rain \t\t Real Label Medium_Rain\n",
            "Index 158 -- Predicted Medium_Rain \t\t Real Label Medium_Rain\n",
            "Index 159 -- Predicted Medium_Rain \t\t Real Label Medium_Rain\n",
            "Index 160 -- Predicted Medium_Rain \t\t Real Label Medium_Rain\n",
            "Index 161 -- Predicted Medium_Rain \t\t Real Label Medium_Rain\n",
            "Index 162 -- Predicted Medium_Rain \t\t Real Label Medium_Rain\n",
            "Index 163 -- Predicted Low_Chance_Rain \t\t Real Label Medium_Rain\n",
            "Index 164 -- Predicted Medium_Rain \t\t Real Label Medium_Rain\n",
            "Index 165 -- Predicted Medium_Rain \t\t Real Label Medium_Rain\n",
            "Index 166 -- Predicted Medium_Rain \t\t Real Label Medium_Rain\n",
            "Index 167 -- Predicted Medium_Rain \t\t Real Label Medium_Rain\n",
            "Index 168 -- Predicted Medium_Rain \t\t Real Label Medium_Rain\n",
            "Index 169 -- Predicted Medium_Rain \t\t Real Label Medium_Rain\n",
            "Index 170 -- Predicted Medium_Rain \t\t Real Label Medium_Rain\n",
            "Index 171 -- Predicted Medium_Rain \t\t Real Label Medium_Rain\n",
            "Index 172 -- Predicted Heavy_Rain \t\t Real Label Medium_Rain\n",
            "Index 173 -- Predicted Medium_Rain \t\t Real Label Medium_Rain\n",
            "Index 174 -- Predicted Medium_Rain \t\t Real Label Medium_Rain\n",
            "Index 175 -- Predicted Medium_Rain \t\t Real Label Medium_Rain\n",
            "Index 176 -- Predicted Medium_Rain \t\t Real Label Medium_Rain\n",
            "Index 177 -- Predicted Medium_Rain \t\t Real Label Medium_Rain\n",
            "Index 178 -- Predicted Medium_Rain \t\t Real Label Medium_Rain\n",
            "Index 179 -- Predicted Heavy_Rain \t\t Real Label Medium_Rain\n",
            "Index 180 -- Predicted Medium_Rain \t\t Real Label Medium_Rain\n",
            "Index 181 -- Predicted Medium_Rain \t\t Real Label Medium_Rain\n",
            "Index 182 -- Predicted Medium_Rain \t\t Real Label Medium_Rain\n",
            "Index 183 -- Predicted Medium_Rain \t\t Real Label Medium_Rain\n",
            "Index 184 -- Predicted Medium_Rain \t\t Real Label Medium_Rain\n",
            "Index 185 -- Predicted Medium_Rain \t\t Real Label Medium_Rain\n",
            "Index 186 -- Predicted Medium_Rain \t\t Real Label Medium_Rain\n",
            "Index 187 -- Predicted Medium_Rain \t\t Real Label Medium_Rain\n",
            "Index 188 -- Predicted Medium_Rain \t\t Real Label Medium_Rain\n",
            "Index 189 -- Predicted Medium_Rain \t\t Real Label Medium_Rain\n",
            "Index 190 -- Predicted Medium_Rain \t\t Real Label Medium_Rain\n",
            "Index 191 -- Predicted Medium_Rain \t\t Real Label Medium_Rain\n",
            "Index 192 -- Predicted Heavy_Rain \t\t Real Label Medium_Rain\n",
            "Index 193 -- Predicted Heavy_Rain \t\t Real Label Heavy_Rain\n",
            "Index 194 -- Predicted Heavy_Rain \t\t Real Label Heavy_Rain\n",
            "Index 195 -- Predicted Heavy_Rain \t\t Real Label Heavy_Rain\n",
            "Index 196 -- Predicted Heavy_Rain \t\t Real Label Heavy_Rain\n",
            "Index 197 -- Predicted Heavy_Rain \t\t Real Label Heavy_Rain\n",
            "Index 198 -- Predicted Medium_Rain \t\t Real Label Heavy_Rain\n",
            "Index 199 -- Predicted Heavy_Rain \t\t Real Label Heavy_Rain\n",
            "Index 200 -- Predicted Medium_Rain \t\t Real Label Heavy_Rain\n",
            "Index 201 -- Predicted Heavy_Rain \t\t Real Label Heavy_Rain\n",
            "Index 202 -- Predicted Heavy_Rain \t\t Real Label Heavy_Rain\n",
            "Index 203 -- Predicted Heavy_Rain \t\t Real Label Heavy_Rain\n",
            "Index 204 -- Predicted Heavy_Rain \t\t Real Label Heavy_Rain\n",
            "Index 205 -- Predicted Heavy_Rain \t\t Real Label Heavy_Rain\n",
            "Index 206 -- Predicted Heavy_Rain \t\t Real Label Heavy_Rain\n",
            "Index 207 -- Predicted Heavy_Rain \t\t Real Label Heavy_Rain\n",
            "Index 208 -- Predicted Heavy_Rain \t\t Real Label Heavy_Rain\n",
            "Index 209 -- Predicted Heavy_Rain \t\t Real Label Heavy_Rain\n",
            "Index 210 -- Predicted Heavy_Rain \t\t Real Label Heavy_Rain\n",
            "Index 211 -- Predicted Heavy_Rain \t\t Real Label Heavy_Rain\n",
            "Index 212 -- Predicted Heavy_Rain \t\t Real Label Heavy_Rain\n",
            "Index 213 -- Predicted Heavy_Rain \t\t Real Label Heavy_Rain\n",
            "Index 214 -- Predicted Heavy_Rain \t\t Real Label Heavy_Rain\n",
            "Index 215 -- Predicted Heavy_Rain \t\t Real Label Heavy_Rain\n",
            "Index 216 -- Predicted Heavy_Rain \t\t Real Label Heavy_Rain\n",
            "Index 217 -- Predicted Heavy_Rain \t\t Real Label Heavy_Rain\n",
            "Index 218 -- Predicted Heavy_Rain \t\t Real Label Heavy_Rain\n",
            "Index 219 -- Predicted Heavy_Rain \t\t Real Label Heavy_Rain\n",
            "Index 220 -- Predicted Heavy_Rain \t\t Real Label Heavy_Rain\n",
            "Index 221 -- Predicted Medium_Rain \t\t Real Label Heavy_Rain\n",
            "Index 222 -- Predicted Heavy_Rain \t\t Real Label Heavy_Rain\n",
            "Index 223 -- Predicted Heavy_Rain \t\t Real Label Heavy_Rain\n",
            "Index 224 -- Predicted Heavy_Rain \t\t Real Label Heavy_Rain\n",
            "Index 225 -- Predicted Heavy_Rain \t\t Real Label Heavy_Rain\n",
            "Index 226 -- Predicted Heavy_Rain \t\t Real Label Heavy_Rain\n",
            "Index 227 -- Predicted Heavy_Rain \t\t Real Label Heavy_Rain\n",
            "Index 228 -- Predicted Medium_Rain \t\t Real Label Heavy_Rain\n",
            "Index 229 -- Predicted Heavy_Rain \t\t Real Label Heavy_Rain\n",
            "Index 230 -- Predicted Heavy_Rain \t\t Real Label Heavy_Rain\n",
            "Index 231 -- Predicted Heavy_Rain \t\t Real Label Heavy_Rain\n",
            "Index 232 -- Predicted Heavy_Rain \t\t Real Label Heavy_Rain\n",
            "Index 233 -- Predicted Heavy_Rain \t\t Real Label Heavy_Rain\n",
            "Index 234 -- Predicted Heavy_Rain \t\t Real Label Heavy_Rain\n",
            "Index 235 -- Predicted Low_Chance_Rain \t\t Real Label Heavy_Rain\n"
          ]
        }
      ]
    },
    {
      "cell_type": "code",
      "source": [
        "print(sklearn.metrics.classification_report(real_label, predicted_label, target_names=CATEGORIES))\n",
        "\n",
        "def plot_confusion_matrix(cm, classes,\n",
        "                        normalize=False,\n",
        "                        title='Confusion matrix',\n",
        "                        cmap=plt.cm.Blues):\n",
        " \n",
        "    plt.imshow(cm, interpolation='nearest', cmap=cmap)\n",
        "    plt.title(title)\n",
        "    plt.colorbar()\n",
        "    tick_marks = np.arange(len(classes))\n",
        "    plt.xticks(tick_marks, classes, rotation=45)\n",
        "    plt.yticks(tick_marks, classes)\n",
        "\n",
        "    if normalize:\n",
        "        cm = cm.astype('float') / cm.sum(axis=1)[:, np.newaxis]\n",
        "        print(\"Normalized confusion matrix\")\n",
        "    else:\n",
        "        print('Confusion matrix, without normalization')\n",
        "\n",
        "    print(cm)\n",
        "\n",
        "    thresh = cm.max() / 2.\n",
        "    for i, j in itertools.product(range(cm.shape[0]), range(cm.shape[1])):\n",
        "        plt.text(j, i, cm[i, j],\n",
        "            horizontalalignment=\"center\",\n",
        "            color=\"white\" if cm[i, j] > thresh else \"black\")\n",
        "\n",
        "    plt.tight_layout()\n",
        "    plt.ylabel('True label')\n",
        "    plt.xlabel('Predicted label')\n",
        "\n",
        "cm = confusion_matrix(predicted_label, real_label)\n",
        "cm_plot_labels = CATEGORIES\n",
        "plot_confusion_matrix(cm=cm, classes=cm_plot_labels, title='Confusion Matrix')"
      ],
      "metadata": {
        "colab": {
          "base_uri": "https://localhost:8080/",
          "height": 554
        },
        "id": "1s4qFI-hmPEu",
        "outputId": "858287dc-21e5-4697-c632-908176405a74"
      },
      "execution_count": null,
      "outputs": [
        {
          "output_type": "stream",
          "name": "stdout",
          "text": [
            "                 precision    recall  f1-score   support\n",
            "\n",
            "     Heavy_Rain       0.79      0.88      0.84        43\n",
            "Low_Chance_Rain       0.94      0.88      0.91        92\n",
            "    Medium_Rain       0.89      0.90      0.90       101\n",
            "\n",
            "       accuracy                           0.89       236\n",
            "      macro avg       0.88      0.89      0.88       236\n",
            "   weighted avg       0.89      0.89      0.89       236\n",
            "\n",
            "Confusion matrix, without normalization\n",
            "[[38  4  6]\n",
            " [ 1 81  4]\n",
            " [ 4  7 91]]\n"
          ]
        },
        {
          "output_type": "display_data",
          "data": {
            "text/plain": [
              "<Figure size 432x288 with 2 Axes>"
            ],
            "image/png": "[encoded data removed]"
          },
          "metadata": {
            "needs_background": "light"
          }
        }
      ]
    },
    {
      "cell_type": "code",
      "source": [
        "count_miss = 0\n",
        "\n",
        "for idx, (real, pred, path) in enumerate(zip(real_label, predicted_label, test_path)):\n",
        "    if real != pred:\n",
        "      print(f'Index {idx} - Predicted {CATEGORIES[real]} \\t Real {CATEGORIES[pred]} \\n File : {path} \\n')\n",
        "      count_miss += 1\n",
        "\n",
        "print(f'Total missclassified: {count_miss}')\n"
      ],
      "metadata": {
        "colab": {
          "base_uri": "https://localhost:8080/"
        },
        "id": "T0-FpzuMx6oD",
        "outputId": "cf3f2267-3595-40e3-a16a-6bb1883424e2"
      },
      "execution_count": null,
      "outputs": [
        {
          "output_type": "stream",
          "name": "stdout",
          "text": [
            "Index 0 - Predicted Low_Chance_Rain \t Real Heavy_Rain \n",
            " File : /content/AWAN-App/dataset/test/Low_Chance_of_Rain/Cs-N041.jpg \n",
            "\n",
            "Index 3 - Predicted Low_Chance_Rain \t Real Medium_Rain \n",
            " File : /content/AWAN-App/dataset/test/Low_Chance_of_Rain/Cs-N086.jpg \n",
            "\n",
            "Index 5 - Predicted Low_Chance_Rain \t Real Medium_Rain \n",
            " File : /content/AWAN-App/dataset/test/Low_Chance_of_Rain/Cs-N254.jpg \n",
            "\n",
            "Index 15 - Predicted Low_Chance_Rain \t Real Medium_Rain \n",
            " File : /content/AWAN-App/dataset/test/Low_Chance_of_Rain/Cs-N080.jpg \n",
            "\n",
            "Index 28 - Predicted Low_Chance_Rain \t Real Medium_Rain \n",
            " File : /content/AWAN-App/dataset/test/Low_Chance_of_Rain/Ci-N129.jpg \n",
            "\n",
            "Index 37 - Predicted Low_Chance_Rain \t Real Heavy_Rain \n",
            " File : /content/AWAN-App/dataset/test/Low_Chance_of_Rain/Cs-N005.jpg \n",
            "\n",
            "Index 46 - Predicted Low_Chance_Rain \t Real Heavy_Rain \n",
            " File : /content/AWAN-App/dataset/test/Low_Chance_of_Rain/Ci-N097.jpg \n",
            "\n",
            "Index 67 - Predicted Low_Chance_Rain \t Real Heavy_Rain \n",
            " File : /content/AWAN-App/dataset/test/Low_Chance_of_Rain/Ac-N176.jpg \n",
            "\n",
            "Index 69 - Predicted Low_Chance_Rain \t Real Medium_Rain \n",
            " File : /content/AWAN-App/dataset/test/Low_Chance_of_Rain/Ac-N074.jpg \n",
            "\n",
            "Index 79 - Predicted Low_Chance_Rain \t Real Medium_Rain \n",
            " File : /content/AWAN-App/dataset/test/Low_Chance_of_Rain/Cs-N128.jpg \n",
            "\n",
            "Index 90 - Predicted Low_Chance_Rain \t Real Medium_Rain \n",
            " File : /content/AWAN-App/dataset/test/Low_Chance_of_Rain/Cc-N095.jpg \n",
            "\n",
            "Index 95 - Predicted Medium_Rain \t Real Heavy_Rain \n",
            " File : /content/AWAN-App/dataset/test/Medium_Rain/Sc-N131.jpg \n",
            "\n",
            "Index 109 - Predicted Medium_Rain \t Real Heavy_Rain \n",
            " File : /content/AWAN-App/dataset/test/Medium_Rain/Sc-N253.jpg \n",
            "\n",
            "Index 113 - Predicted Medium_Rain \t Real Low_Chance_Rain \n",
            " File : /content/AWAN-App/dataset/test/Medium_Rain/As-N013.jpg \n",
            "\n",
            "Index 121 - Predicted Medium_Rain \t Real Heavy_Rain \n",
            " File : /content/AWAN-App/dataset/test/Medium_Rain/St-N009.jpg \n",
            "\n",
            "Index 132 - Predicted Medium_Rain \t Real Low_Chance_Rain \n",
            " File : /content/AWAN-App/dataset/test/Medium_Rain/As-N112.jpg \n",
            "\n",
            "Index 141 - Predicted Medium_Rain \t Real Low_Chance_Rain \n",
            " File : /content/AWAN-App/dataset/test/Medium_Rain/Sc-N148.jpg \n",
            "\n",
            "Index 163 - Predicted Medium_Rain \t Real Low_Chance_Rain \n",
            " File : /content/AWAN-App/dataset/test/Medium_Rain/As-N018.jpg \n",
            "\n",
            "Index 172 - Predicted Medium_Rain \t Real Heavy_Rain \n",
            " File : /content/AWAN-App/dataset/test/Medium_Rain/Ns-N256.jpg \n",
            "\n",
            "Index 179 - Predicted Medium_Rain \t Real Heavy_Rain \n",
            " File : /content/AWAN-App/dataset/test/Medium_Rain/Sc-N307.jpg \n",
            "\n",
            "Index 192 - Predicted Medium_Rain \t Real Heavy_Rain \n",
            " File : /content/AWAN-App/dataset/test/Medium_Rain/As-N045.jpg \n",
            "\n",
            "Index 198 - Predicted Heavy_Rain \t Real Medium_Rain \n",
            " File : /content/AWAN-App/dataset/test/Heavy_Rain/Cu-N018.jpg \n",
            "\n",
            "Index 200 - Predicted Heavy_Rain \t Real Medium_Rain \n",
            " File : /content/AWAN-App/dataset/test/Heavy_Rain/Cu-N052.jpg \n",
            "\n",
            "Index 221 - Predicted Heavy_Rain \t Real Medium_Rain \n",
            " File : /content/AWAN-App/dataset/test/Heavy_Rain/Cu-N128.jpg \n",
            "\n",
            "Index 228 - Predicted Heavy_Rain \t Real Medium_Rain \n",
            " File : /content/AWAN-App/dataset/test/Heavy_Rain/Cb-N236.jpg \n",
            "\n",
            "Index 235 - Predicted Heavy_Rain \t Real Low_Chance_Rain \n",
            " File : /content/AWAN-App/dataset/test/Heavy_Rain/Cu-N139.jpg \n",
            "\n",
            "Total missclassified: 26\n"
          ]
        }
      ]
    }
  ]
}